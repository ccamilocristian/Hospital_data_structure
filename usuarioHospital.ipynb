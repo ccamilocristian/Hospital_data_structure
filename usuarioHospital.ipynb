{
 "cells": [
  {
   "cell_type": "markdown",
   "metadata": {},
   "source": [
    "# Importación de librerías y generación de bases"
   ]
  },
  {
   "cell_type": "markdown",
   "metadata": {},
   "source": [
    "<font size=\"3\"> A continuación se hace la importación de las clases **Paciente** y **Hospital** de la librería **dbHospital_library**</font>"
   ]
  },
  {
   "cell_type": "code",
   "execution_count": 1,
   "metadata": {},
   "outputs": [],
   "source": [
    "from dbHospital_library import Paciente\n",
    "from dbHospital_library import Hospital\n",
    "import random"
   ]
  },
  {
   "cell_type": "markdown",
   "metadata": {},
   "source": [
    "<font size=\"3\"> Ahora, se mostrará  la descripción de cada método en las clases **Paciente** y **hospital**.</font> "
   ]
  },
  {
   "cell_type": "code",
   "execution_count": 2,
   "metadata": {},
   "outputs": [
    {
     "name": "stdout",
     "output_type": "stream",
     "text": [
      "Help on class Paciente in module dbHospital:\n",
      "\n",
      "class Paciente(builtins.object)\n",
      " |  Paciente(nombre, edad, ID, eps, HospitalAsignado, estrato, enfermedades, citas, base, base_hospitales)\n",
      " |  \n",
      " |  Methods defined here:\n",
      " |  \n",
      " |  ActualizarEdad(self, edadActualizado)\n",
      " |      **edadActualizado=Relaciona la edad por el cual será actualizada el paciente.\n",
      " |      \n",
      " |      * La función relaciona la información del paciente con la variable edadActualizado para actualizarlo en la base.\n",
      " |  \n",
      " |  ActualizarID(self, idActualizado)\n",
      " |      **idActualizado=Relaciona la identiciación por el cual será actualizada el paciente.\n",
      " |      \n",
      " |      *La función relaciona la información del paciente con la variable idActualizado para actualizarlo en la base.\n",
      " |  \n",
      " |  ActualizarNombre(self, nombreActualizado)\n",
      " |      **nombreActualizado=Relaciona el nombre por el cual será actualizado el paciente.\n",
      " |      \n",
      " |      * La función relaciona la información del paciente con la variable nombreActualizado para actualizarlo en la base.\n",
      " |  \n",
      " |  CalcularCostoCita(self)\n",
      " |      *La función relaciona el cálculo del costo de la cita para el paciente en cuestión. Para este método es necesario la edad del paciente.\n",
      " |  \n",
      " |  CalcularCostoMedicamentos(self)\n",
      " |      *La función relaciona la edad y el estrato para calcular el costo de los medicamentos.\n",
      " |  \n",
      " |  ImprimirDatos(self)\n",
      " |  \n",
      " |  TrasladarPaciente(self)\n",
      " |      *La función relaciona la información del paciente para ser trasladado a otro Hospital a través de un input.\n",
      " |  \n",
      " |  __init__(self, nombre, edad, ID, eps, HospitalAsignado, estrato, enfermedades, citas, base, base_hospitales)\n",
      " |      *nombre=Relaciona el nombre y apellido del paciente\n",
      " |      \n",
      " |      *edad= Relaciona la edad del paciente\n",
      " |      \n",
      " |      *ID=Relaciona la identificación del paciente.\n",
      " |      \n",
      " |      *HospitalAsignado=Relaciona el hospital en donde esta asignado el paciente.\n",
      " |      \n",
      " |      *estrato=Relaciona el estrato en el que vive el paciente.\n",
      " |      \n",
      " |      *enfermedades=Relaciona el listado de enfermedades que tiene el paciente. \n",
      " |      \n",
      " |      *citas= Relaciona el listado de citas que tiene el paciente.\n",
      " |      \n",
      " |      *base=relaciona la base de datos donde se encuetran los clientes según el hospital.\n",
      " |  \n",
      " |  diccionario(self)\n",
      " |      *La función relaciona la información del paciente en un diccionario exportable.\n",
      " |  \n",
      " |  ----------------------------------------------------------------------\n",
      " |  Data descriptors defined here:\n",
      " |  \n",
      " |  __dict__\n",
      " |      dictionary for instance variables (if defined)\n",
      " |  \n",
      " |  __weakref__\n",
      " |      list of weak references to the object (if defined)\n",
      "\n",
      "Help on class Hospital in module dbHospital:\n",
      "\n",
      "class Hospital(builtins.object)\n",
      " |  Hospital(Capacidad, EPS, institucion, pacientes, base_hospitales)\n",
      " |  \n",
      " |  Methods defined here:\n",
      " |  \n",
      " |  __init__(self, Capacidad, EPS, institucion, pacientes, base_hospitales)\n",
      " |      *Capacidad= Relaciona la cantidad de pacientes que tiene capacidad el hospital para atender. \n",
      " |      \n",
      " |      *EPS= Relaciona la EPS a la que pertenece el hospital.\n",
      " |      \n",
      " |      *institucion= Relaciona el nombre del hospital a revisar.\n",
      " |      \n",
      " |      *pacientes= Relaciona el listado de pacientes que se encuentran en el hospital.\n",
      " |      \n",
      " |      *base_hospitales=Relaciona la base de los hospitales y el listado de pacientes en el mismo\n",
      " |  \n",
      " |  crear_paciente(self, nombre, edad, ID, estrato, enfermedades, citas)\n",
      " |      * La función recibe la infomación de nuevos pacientes y los agrega al diccionario del hospital en cuestión.\n",
      " |  \n",
      " |  imprimirInfo(self)\n",
      " |  \n",
      " |  verificarEPS(self, eps_validar)\n",
      " |      *La función relaciona la informacion de cada hospital y valida si la variable se encuentra en el listado de posibilidades.\n",
      " |  \n",
      " |  ----------------------------------------------------------------------\n",
      " |  Data descriptors defined here:\n",
      " |  \n",
      " |  __dict__\n",
      " |      dictionary for instance variables (if defined)\n",
      " |  \n",
      " |  __weakref__\n",
      " |      list of weak references to the object (if defined)\n",
      "\n"
     ]
    }
   ],
   "source": [
    "help(Paciente); help(Hospital)"
   ]
  },
  {
   "cell_type": "markdown",
   "metadata": {},
   "source": [
    "<font size=\"3\"> En la siguiente celda se encuentran los nombres, apellidos, hospitales, enfermedades, eps y citas las cuales serán la base para los pacientes que se relacionarán en la base de Hospitales. </font>"
   ]
  },
  {
   "cell_type": "code",
   "execution_count": 3,
   "metadata": {},
   "outputs": [],
   "source": [
    "lista_nombres=['ANTONIO','JOSE','FRANCISCO','JUAN','MANUEL','PEDRO','JESUS','ANGEL','MIGUEL','JAVIER','JOSE ANTONIO','DAVID','CARLOS','JOSE LUIS','ALEJANDRO','MIGUEL ANGEL','FRANCISCO JAVIER','RAFAEL','DANIEL','JUAN JOSE','LUIS','PABLO']\n",
    "\n",
    "lista_apellidos=['GARCIA','MARTINEZ','LOPEZ','SANCHEZ','GONZALEZ','GOMEZ','FERNANDEZ','MORENO','JIMENEZ','PEREZ','RODRIGUEZ','NAVARRO','RUIZ','DIAZ','SERRANO','HERNANDEZ','MUÑOZ','SAEZ','ROMERO','RUBIO','ALFARO','MOLINA']\n",
    "\n",
    "lista_hospitales = [\"Hospital Militar Central\",\"Sociedad de cirugía\",\"Hospital Simón Bolívar\",\"Hospital Universitario San Ignacio\",\"Hospital Engativá\",\"Hospital De Fontibón\",\"Hospital Del Sur I Nivel\",\"Hospital De Meissen\",\"Hospital San Blas\"]\n",
    "\n",
    "lista_eps=['Compensar', 'Sanitas', 'Nueva EPS']\n",
    "\n",
    "lista_enfermedades=['Abrasión corneal','Accidentes de tráfico','Accidentes eléctricos','Accidentes en el agua','Accidentes químicos','Acné','Aftas bucales','Albinismo','Alcoholismo','Alergia','Alergia al níquel','Alergia al sol','Alud','Alzhéimer','Amenorrea',\n",
    "'Ampollas','Anemia','Aneurisma','Angina de pecho','Anisakiasis','Anorexia','Ansiedad','Apendicitis','Apnea del sueño','Arritmia','Arteriosclerosis','Artritis reumatoide','Artrosis','Ascitis','Asma','Astigmatismo','Ataxia','Atragantamiento','Atrofia vaginal','Autismo','Balanitis','Campylobacter','Cáncer','Cáncer de cabeza y cuello',\n",
    "'Cáncer de colon','Cáncer de cuello de útero','Cáncer de esófago','Cáncer de estómago','Cáncer de hígado','Cáncer de laringe','Cáncer de mama','Cáncer de ovario','Cáncer de páncreas','Cáncer de pene','Cáncer de piel','Cáncer de próstata','Cáncer de pulmón','Cáncer de riñón','Cáncer de testículo','Cáncer de tiroides','Cáncer de vejiga','Cáncer oral','Cáncer óseo','Candidiasis',\n",
    "'Carbunco','Cataratas','Catarro','Celiaquía','Chancroide','Chikungunya','Leucemia','Lipodistrofia','Lipotimia','Listeriosis','Litiasis biliar','Lumbalgia','Lupus','Luxaciones']\n",
    "\n",
    "lista_citas=[\"Hora:09:00\",\"Hora:08:00\",\"Hora:10:00\",\"Hora:11:00\",\"Hora:12:00\", \"Hora:13:00\",\"Hora:14:00\",\"Hora:15:00\"]"
   ]
  },
  {
   "cell_type": "markdown",
   "metadata": {},
   "source": [
    "<font size=\"3\"> A contunación se crea una lista de 90 pacientes generados de forma aleatoria teniendo como llaves de un diccionario por paciente las siguientes variables:\n",
    "1. nombre\n",
    "2. edad\n",
    "3. ID\n",
    "4. estrato\n",
    "5. enfermedades\n",
    "6. citas\n",
    "</font>"
   ]
  },
  {
   "cell_type": "code",
   "execution_count": 4,
   "metadata": {},
   "outputs": [],
   "source": [
    "lista_pac=[]\n",
    "\n",
    "for i in range(90):\n",
    "    pacien={\"nombre\":random.sample(lista_nombres, k=1)[0]+\" \"+random.sample(lista_apellidos, k=1)[0], \"edad\":random.randint(18,90),\"ID\":random.randint(99999999,999999999), \"estrato\":random.randint(2,6), \"enfermedades\":random.sample(lista_enfermedades, k=random.randint(1,3)), \"Citas\":random.sample(lista_citas, k=random.randint(1,2)), \"eps\":random.sample(lista_eps, k=1)[0]}\n",
    "    lista_pac.append(pacien)"
   ]
  },
  {
   "cell_type": "code",
   "execution_count": 5,
   "metadata": {},
   "outputs": [
    {
     "name": "stdout",
     "output_type": "stream",
     "text": [
      "Número de registros en la lista: 90\n"
     ]
    }
   ],
   "source": [
    "print(\"Número de registros en la lista:\",len(lista_pac))"
   ]
  },
  {
   "cell_type": "code",
   "execution_count": 6,
   "metadata": {},
   "outputs": [
    {
     "data": {
      "text/plain": [
       "[{'nombre': 'RAFAEL RUBIO',\n",
       "  'edad': 45,\n",
       "  'ID': 325225713,\n",
       "  'estrato': 6,\n",
       "  'enfermedades': ['Cáncer óseo', 'Alcoholismo'],\n",
       "  'Citas': ['Hora:11:00'],\n",
       "  'eps': 'Nueva EPS'}]"
      ]
     },
     "execution_count": 6,
     "metadata": {},
     "output_type": "execute_result"
    }
   ],
   "source": [
    "lista_pac[0:1]"
   ]
  },
  {
   "cell_type": "markdown",
   "metadata": {},
   "source": [
    "<font size=\"3\"> En la siguiente sección se seleccionan los pacientes para cada uno de los hospitales y asi mismos asigandolos."
   ]
  },
  {
   "cell_type": "code",
   "execution_count": 7,
   "metadata": {},
   "outputs": [],
   "source": [
    "dict_hospital={}\n",
    "for i in range(len(lista_hospitales)):\n",
    "        dict_hospital.update({lista_hospitales[i]:lista_pac[10*i:10*(i+1)]})"
   ]
  },
  {
   "cell_type": "code",
   "execution_count": 8,
   "metadata": {},
   "outputs": [
    {
     "name": "stdout",
     "output_type": "stream",
     "text": [
      "Ejemplo de la lista de pacientes en el hospital:  Hospital Militar Central\n"
     ]
    },
    {
     "data": {
      "text/plain": [
       "[{'nombre': 'RAFAEL RUBIO',\n",
       "  'edad': 45,\n",
       "  'ID': 325225713,\n",
       "  'estrato': 6,\n",
       "  'enfermedades': ['Cáncer óseo', 'Alcoholismo'],\n",
       "  'Citas': ['Hora:11:00'],\n",
       "  'eps': 'Nueva EPS'},\n",
       " {'nombre': 'JESUS DIAZ',\n",
       "  'edad': 75,\n",
       "  'ID': 974059720,\n",
       "  'estrato': 2,\n",
       "  'enfermedades': ['Anisakiasis'],\n",
       "  'Citas': ['Hora:15:00'],\n",
       "  'eps': 'Sanitas'}]"
      ]
     },
     "execution_count": 8,
     "metadata": {},
     "output_type": "execute_result"
    }
   ],
   "source": [
    "print(\"Ejemplo de la lista de pacientes en el hospital: \",list(dict_hospital.keys())[0])\n",
    "dict_hospital[list(dict_hospital.keys())[0]][:2]"
   ]
  },
  {
   "cell_type": "markdown",
   "metadata": {},
   "source": [
    "<font size=\"3\"> En la siguiente sección se hace el update del hospital asignado a cada paciente en el diccionario principal</font>"
   ]
  },
  {
   "cell_type": "code",
   "execution_count": 9,
   "metadata": {},
   "outputs": [],
   "source": [
    "for i in range(len(lista_pac)):\n",
    "    for j in range(10):\n",
    "        if lista_pac[i]['ID']== dict_hospital[\"Hospital Militar Central\"][j]['ID']:\n",
    "            lista_pac[i].update({\"Hospital\":\"Hospital Militar Central\"})\n",
    "        elif lista_pac[i]['ID']== dict_hospital[\"Sociedad de cirugía\"][j]['ID']:\n",
    "            lista_pac[i].update({\"Hospital\":\"Sociedad de cirugía\"})\n",
    "        elif lista_pac[i]['ID']== dict_hospital[\"Hospital Universitario San Ignacio\"][j]['ID']:\n",
    "            lista_pac[i].update({\"Hospital\":\"Hospital Universitario San Ignacio\"})\n",
    "        elif lista_pac[i]['ID']== dict_hospital['Hospital Engativá'][j]['ID']:\n",
    "            lista_pac[i].update({\"Hospital\":'Hospital Engativá'})\n",
    "        elif lista_pac[i]['ID']== dict_hospital['Hospital De Fontibón'][j]['ID']:\n",
    "            lista_pac[i].update({\"Hospital\":'Hospital De Fontibón'})\n",
    "        elif lista_pac[i]['ID']== dict_hospital['Hospital Del Sur I Nivel'][j]['ID']:\n",
    "            lista_pac[i].update({\"Hospital\":'Hospital Del Sur I Nivel'})\n",
    "        elif lista_pac[i]['ID']== dict_hospital['Hospital De Meissen'][j]['ID']:\n",
    "            lista_pac[i].update({\"Hospital\":'Hospital De Meissen'})\n",
    "        elif lista_pac[i]['ID']== dict_hospital['Hospital San Blas'][j]['ID']:\n",
    "            lista_pac[i].update({\"Hospital\":'Hospital San Blas'})\n",
    "        elif lista_pac[i]['ID']== dict_hospital['Hospital Simón Bolívar'][j]['ID']:\n",
    "            lista_pac[i].update({\"Hospital\":'Hospital Simón Bolívar'})"
   ]
  },
  {
   "cell_type": "code",
   "execution_count": 10,
   "metadata": {},
   "outputs": [],
   "source": [
    "dict_hospital1={}\n",
    "for i in range(len(lista_hospitales)):\n",
    "        dict_hospital1.update({lista_hospitales[i]:lista_pac[10*i:10*(i+1)]})"
   ]
  },
  {
   "cell_type": "code",
   "execution_count": 11,
   "metadata": {},
   "outputs": [
    {
     "name": "stdout",
     "output_type": "stream",
     "text": [
      "Ejemplo de la lista de pacientes en el hospital:  Hospital Militar Central\n"
     ]
    },
    {
     "data": {
      "text/plain": [
       "[{'nombre': 'RAFAEL RUBIO',\n",
       "  'edad': 45,\n",
       "  'ID': 325225713,\n",
       "  'estrato': 6,\n",
       "  'enfermedades': ['Cáncer óseo', 'Alcoholismo'],\n",
       "  'Citas': ['Hora:11:00'],\n",
       "  'eps': 'Nueva EPS',\n",
       "  'Hospital': 'Hospital Militar Central'},\n",
       " {'nombre': 'JESUS DIAZ',\n",
       "  'edad': 75,\n",
       "  'ID': 974059720,\n",
       "  'estrato': 2,\n",
       "  'enfermedades': ['Anisakiasis'],\n",
       "  'Citas': ['Hora:15:00'],\n",
       "  'eps': 'Sanitas',\n",
       "  'Hospital': 'Hospital Militar Central'}]"
      ]
     },
     "execution_count": 11,
     "metadata": {},
     "output_type": "execute_result"
    }
   ],
   "source": [
    "print(\"Ejemplo de la lista de pacientes en el hospital: \",list(dict_hospital1.keys())[0])\n",
    "dict_hospital1[list(dict_hospital1.keys())[0]][:2]"
   ]
  },
  {
   "cell_type": "markdown",
   "metadata": {},
   "source": [
    "<font size=\"3\"> En esta sección se hace la selección de los hospitales que vana pertenecer a cada EPS."
   ]
  },
  {
   "cell_type": "code",
   "execution_count": 12,
   "metadata": {},
   "outputs": [],
   "source": [
    "eps_hospitales={lista_eps[0]:random.sample(lista_hospitales, k=5),\n",
    "           lista_eps[1]:random.sample(lista_hospitales, k=5),\n",
    "           lista_eps[2]:random.sample(lista_hospitales, k=5)}"
   ]
  },
  {
   "cell_type": "code",
   "execution_count": 13,
   "metadata": {},
   "outputs": [
    {
     "data": {
      "text/plain": [
       "{'Compensar': ['Sociedad de cirugía',\n",
       "  'Hospital De Fontibón',\n",
       "  'Hospital De Meissen',\n",
       "  'Hospital Universitario San Ignacio',\n",
       "  'Hospital San Blas'],\n",
       " 'Sanitas': ['Hospital Del Sur I Nivel',\n",
       "  'Hospital Engativá',\n",
       "  'Hospital Simón Bolívar',\n",
       "  'Sociedad de cirugía',\n",
       "  'Hospital De Fontibón'],\n",
       " 'Nueva EPS': ['Hospital San Blas',\n",
       "  'Hospital Universitario San Ignacio',\n",
       "  'Sociedad de cirugía',\n",
       "  'Hospital Engativá',\n",
       "  'Hospital Del Sur I Nivel']}"
      ]
     },
     "execution_count": 13,
     "metadata": {},
     "output_type": "execute_result"
    }
   ],
   "source": [
    "eps_hospitales"
   ]
  },
  {
   "cell_type": "code",
   "execution_count": 14,
   "metadata": {},
   "outputs": [
    {
     "name": "stdout",
     "output_type": "stream",
     "text": [
      "Número de pacientes: \n",
      "\n",
      "Hospital Militar Central 10\n",
      "Sociedad de cirugía 10\n",
      "Hospital Simón Bolívar 10\n",
      "Hospital Universitario San Ignacio 10\n",
      "Hospital Engativá 10\n",
      "Hospital De Fontibón 10\n",
      "Hospital Del Sur I Nivel 10\n",
      "Hospital De Meissen 10\n",
      "Hospital San Blas 10\n"
     ]
    }
   ],
   "source": [
    "print(\"Número de pacientes: \\n\")\n",
    "for i,j in dict_hospital1.items():\n",
    "    print(i,len(j))"
   ]
  },
  {
   "cell_type": "code",
   "execution_count": 15,
   "metadata": {},
   "outputs": [
    {
     "name": "stdout",
     "output_type": "stream",
     "text": [
      "Número de hospitales por EPS: \n",
      "\n",
      "Compensar 5\n",
      "Sanitas 5\n",
      "Nueva EPS 5\n"
     ]
    }
   ],
   "source": [
    "print(\"Número de hospitales por EPS: \\n\")\n",
    "for i,j in eps_hospitales.items():\n",
    "    print(i, len(j))"
   ]
  },
  {
   "cell_type": "markdown",
   "metadata": {},
   "source": [
    "# Pacientes"
   ]
  },
  {
   "cell_type": "markdown",
   "metadata": {},
   "source": [
    "<font size=\"3\"> Se hará la prueba para 4 aleatorios con diferentes opciones en los métodos de cada clase."
   ]
  },
  {
   "cell_type": "markdown",
   "metadata": {},
   "source": [
    "Para el siguiente paso, se le pide al usuario llenar el campo del hospital al cual desea hacer el traslado del paciente."
   ]
  },
  {
   "cell_type": "code",
   "execution_count": 16,
   "metadata": {},
   "outputs": [
    {
     "name": "stdout",
     "output_type": "stream",
     "text": [
      "{'nombre': 'JAVIER SAEZ', 'edad': 73, 'ID': 374897687, 'EPS': 'Nueva EPS', 'Hospital': 'Sociedad de cirugía', 'estrato': 2, 'enfermedades': ['Lumbalgia'], 'Citas': ['Hora:13:00', 'Hora:12:00']}\n",
      "Edad anterior: 73\n",
      "Edad actualizado a: 74\n",
      "Eps del paciente: Nueva EPS\n",
      "Hospitales para trasladar: \n",
      "\n",
      "['Hospital San Blas', 'Hospital Universitario San Ignacio', 'Sociedad de cirugía', 'Hospital Engativá', 'Hospital Del Sur I Nivel']\n",
      "Escriba el hospital a donde se realizará el traslado: Hospital Engativá\n",
      "Cliente trasladado a: Hospital Engativá\n",
      "La cita tiene un costo de: 20400\n",
      "El costo de los medicamentos es: 5000\n",
      "Nombre anterior: JAVIER SAEZ\n",
      "Nombre actualizado a: FRANCISCO MUÑOZ\n",
      "Id anterior 374897687\n",
      "Id actualizado a: 371017903\n",
      "#####################\n",
      "Paciente ID 371017903\n",
      "######################\n",
      "FRANCISCO MUÑOZ, 74 Años\n",
      "EPS: Nueva EPS\n",
      "Hospital Asignado: Hospital Engativá\n",
      "Enfermedades: ['Lumbalgia']\n",
      "Citas Pendientes: ['Hora:13:00', 'Hora:12:00']\n",
      "######################\n",
      "-----------------------------------------------------------------------------------\n",
      "\n",
      "\n",
      "{'nombre': 'DANIEL NAVARRO', 'edad': 48, 'ID': 618815391, 'EPS': 'Compensar', 'Hospital': 'Hospital San Blas', 'estrato': 3, 'enfermedades': ['Arteriosclerosis', 'Anisakiasis', 'Cáncer de testículo'], 'Citas': ['Hora:10:00', 'Hora:13:00']}\n",
      "Edad anterior: 48\n",
      "Edad actualizado a: 25\n",
      "Eps del paciente: Compensar\n",
      "Hospitales para trasladar: \n",
      "\n",
      "['Sociedad de cirugía', 'Hospital De Fontibón', 'Hospital De Meissen', 'Hospital Universitario San Ignacio', 'Hospital San Blas']\n",
      "Escriba el hospital a donde se realizará el traslado: Hospital De Fontibón\n",
      "Cliente trasladado a: Hospital De Fontibón\n",
      "La cita tiene un costo de: 40000\n",
      "El costo de los medicamentos es: 18000\n",
      "Nombre anterior: DANIEL NAVARRO\n",
      "Nombre actualizado a: MIGUEL NAVARRO\n",
      "Id anterior 618815391\n",
      "Id actualizado a: 704828582\n",
      "#####################\n",
      "Paciente ID 704828582\n",
      "######################\n",
      "MIGUEL NAVARRO, 25 Años\n",
      "EPS: Compensar\n",
      "Hospital Asignado: Hospital De Fontibón\n",
      "Enfermedades: ['Arteriosclerosis', 'Anisakiasis', 'Cáncer de testículo']\n",
      "Citas Pendientes: ['Hora:10:00', 'Hora:13:00']\n",
      "######################\n",
      "-----------------------------------------------------------------------------------\n",
      "\n",
      "\n",
      "{'nombre': 'JUAN JOSE LOPEZ', 'edad': 59, 'ID': 331371745, 'EPS': 'Nueva EPS', 'Hospital': 'Hospital De Meissen', 'estrato': 4, 'enfermedades': ['Aftas bucales', 'Atrofia vaginal', 'Arteriosclerosis'], 'Citas': ['Hora:09:00']}\n",
      "Edad anterior: 59\n",
      "Edad actualizado a: 85\n",
      "Eps del paciente: Nueva EPS\n",
      "Hospitales para trasladar: \n",
      "\n",
      "['Hospital San Blas', 'Hospital Universitario San Ignacio', 'Sociedad de cirugía', 'Hospital Engativá', 'Hospital Del Sur I Nivel']\n",
      "Escriba el hospital a donde se realizará el traslado: Hospital Engativá\n",
      "Cliente trasladado a: Hospital Engativá\n",
      "La cita tiene un costo de: 16000\n",
      "El costo de los medicamentos es: 5000\n",
      "Nombre anterior: JUAN JOSE LOPEZ\n",
      "Nombre actualizado a: PABLO LOPEZ\n",
      "Id anterior 331371745\n",
      "Id actualizado a: 193265805\n",
      "#####################\n",
      "Paciente ID 193265805\n",
      "######################\n",
      "PABLO LOPEZ, 85 Años\n",
      "EPS: Nueva EPS\n",
      "Hospital Asignado: Hospital Engativá\n",
      "Enfermedades: ['Aftas bucales', 'Atrofia vaginal', 'Arteriosclerosis']\n",
      "Citas Pendientes: ['Hora:09:00']\n",
      "######################\n",
      "-----------------------------------------------------------------------------------\n",
      "\n",
      "\n",
      "{'nombre': 'JOSE ANTONIO HERNANDEZ', 'edad': 23, 'ID': 213274378, 'EPS': 'Compensar', 'Hospital': 'Sociedad de cirugía', 'estrato': 3, 'enfermedades': ['Cáncer de piel', 'Leucemia', 'Litiasis biliar'], 'Citas': ['Hora:10:00', 'Hora:11:00']}\n",
      "Edad anterior: 23\n",
      "Edad actualizado a: 39\n",
      "Eps del paciente: Compensar\n",
      "Hospitales para trasladar: \n",
      "\n",
      "['Sociedad de cirugía', 'Hospital De Fontibón', 'Hospital De Meissen', 'Hospital Universitario San Ignacio', 'Hospital San Blas']\n",
      "Escriba el hospital a donde se realizará el traslado: Hospital De Fontibón\n",
      "Cliente trasladado a: Hospital De Fontibón\n",
      "La cita tiene un costo de: 34400\n",
      "El costo de los medicamentos es: 13400\n",
      "Nombre anterior: JOSE ANTONIO HERNANDEZ\n",
      "Nombre actualizado a: JOSE FERNANDEZ\n",
      "Id anterior 213274378\n",
      "Id actualizado a: 528283934\n",
      "#####################\n",
      "Paciente ID 528283934\n",
      "######################\n",
      "JOSE FERNANDEZ, 39 Años\n",
      "EPS: Compensar\n",
      "Hospital Asignado: Hospital De Fontibón\n",
      "Enfermedades: ['Cáncer de piel', 'Leucemia', 'Litiasis biliar']\n",
      "Citas Pendientes: ['Hora:10:00', 'Hora:11:00']\n",
      "######################\n",
      "-----------------------------------------------------------------------------------\n",
      "\n",
      "\n"
     ]
    }
   ],
   "source": [
    "indice=random.sample(range(90),k=4)\n",
    "for i in indice:\n",
    "    Paciente_prueba=Paciente(lista_pac[i][\"nombre\"],\n",
    "                    lista_pac[i][\"edad\"],\n",
    "                    lista_pac[i][\"ID\"],\n",
    "                    lista_pac[i][\"eps\"],\n",
    "                    lista_pac[i][\"Hospital\"],\n",
    "                    lista_pac[i][\"estrato\"],\n",
    "                    lista_pac[i][\"enfermedades\"],\n",
    "                    lista_pac[i][\"Citas\"], dict_hospital1, eps_hospitales)\n",
    "\n",
    "    edad_actualizar=random.randint(18,90)\n",
    "    nombre_actualizar=random.sample(lista_nombres, k=1)[0]+\" \"+random.sample(lista_apellidos, k=1)[0]\n",
    "    ActualizarID=random.randint(99999999,999999999)\n",
    "    Paciente_prueba.diccionario()\n",
    "    Paciente_prueba.ActualizarEdad(edad_actualizar)\n",
    "    Paciente_prueba.TrasladarPaciente()\n",
    "    Paciente_prueba.CalcularCostoCita()\n",
    "    Paciente_prueba.CalcularCostoMedicamentos()\n",
    "    Paciente_prueba.ActualizarNombre(nombre_actualizar)\n",
    "    Paciente_prueba.ActualizarID(ActualizarID)\n",
    "    Paciente_prueba.ImprimirDatos()\n",
    "    print(\"-----------------------------------------------------------------------------------\")\n",
    "    print(\"\\n\")"
   ]
  },
  {
   "cell_type": "markdown",
   "metadata": {},
   "source": [
    "# Hospitales"
   ]
  },
  {
   "cell_type": "markdown",
   "metadata": {},
   "source": [
    "## Caso 1"
   ]
  },
  {
   "cell_type": "markdown",
   "metadata": {},
   "source": [
    "Para este caso se escogió una capacidad de 22 pacientes en dicho hospital a analizar. Posteriomente se creará un paciente de manera aleatoria. Así mismo, se valida una EPS de forma aleatoria."
   ]
  },
  {
   "cell_type": "code",
   "execution_count": 17,
   "metadata": {},
   "outputs": [],
   "source": [
    "instituto=Hospital(22,\"Sanitas\", \"Hospital Engativá\", dict_hospital1[\"Hospital Engativá\"] ,dict_hospital1)"
   ]
  },
  {
   "cell_type": "code",
   "execution_count": 18,
   "metadata": {},
   "outputs": [
    {
     "name": "stdout",
     "output_type": "stream",
     "text": [
      "creacion paciente nuevo\n",
      "\n",
      "\n",
      "Eps a validar: Sanitas\n",
      "La EPS a validar corresponde a EPS del Hospital\n",
      "\n",
      "\n",
      "#####################\n",
      "Hospital: Hospital Engativá\n",
      "######################\n",
      "Pacientes: \n",
      "Nombre:  DAVID GOMEZ\n",
      "edad:  28\n",
      "ID:  218561501\n",
      "estrato:  5\n",
      "enfermedades:  ['Astigmatismo', 'Lupus']\n",
      "Citas:  ['Hora:14:00', 'Hora:09:00']\n",
      "-------------\n",
      "Nombre:  DANIEL FERNANDEZ\n",
      "edad:  28\n",
      "ID:  199236775\n",
      "estrato:  3\n",
      "enfermedades:  ['Carbunco', 'Cáncer de laringe']\n",
      "Citas:  ['Hora:11:00', 'Hora:15:00']\n",
      "-------------\n",
      "Nombre:  RAFAEL SERRANO\n",
      "edad:  90\n",
      "ID:  526233144\n",
      "estrato:  2\n",
      "enfermedades:  ['Lipotimia']\n",
      "Citas:  ['Hora:10:00', 'Hora:13:00']\n",
      "-------------\n",
      "Nombre:  PABLO GARCIA\n",
      "edad:  47\n",
      "ID:  583147507\n",
      "estrato:  3\n",
      "enfermedades:  ['Cáncer de cabeza y cuello', 'Alcoholismo', 'Alzhéimer']\n",
      "Citas:  ['Hora:11:00']\n",
      "-------------\n",
      "Nombre:  CARLOS GONZALEZ\n",
      "edad:  22\n",
      "ID:  120128604\n",
      "estrato:  6\n",
      "enfermedades:  ['Celiaquía', 'Litiasis biliar', 'Lumbalgia']\n",
      "Citas:  ['Hora:15:00']\n",
      "-------------\n",
      "Nombre:  JOSE LUIS MUÑOZ\n",
      "edad:  28\n",
      "ID:  773975731\n",
      "estrato:  3\n",
      "enfermedades:  ['Accidentes de tráfico', 'Accidentes químicos', 'Cáncer de mama']\n",
      "Citas:  ['Hora:14:00', 'Hora:08:00']\n",
      "-------------\n",
      "Nombre:  JUAN SAEZ\n",
      "edad:  26\n",
      "ID:  612902094\n",
      "estrato:  2\n",
      "enfermedades:  ['Aneurisma', 'Cáncer de ovario', 'Carbunco']\n",
      "Citas:  ['Hora:11:00']\n",
      "-------------\n",
      "Nombre:  PEDRO SERRANO\n",
      "edad:  19\n",
      "ID:  841418806\n",
      "estrato:  5\n",
      "enfermedades:  ['Cáncer de tiroides', 'Apendicitis', 'Cáncer de esófago']\n",
      "Citas:  ['Hora:09:00', 'Hora:10:00']\n",
      "-------------\n",
      "Nombre:  CARLOS GARCIA\n",
      "edad:  43\n",
      "ID:  140274917\n",
      "estrato:  2\n",
      "enfermedades:  ['Cáncer de tiroides', 'Accidentes en el agua']\n",
      "Citas:  ['Hora:14:00', 'Hora:13:00']\n",
      "-------------\n",
      "Nombre:  JUAN RUBIO\n",
      "edad:  24\n",
      "ID:  687656313\n",
      "estrato:  3\n",
      "enfermedades:  ['Chancroide']\n",
      "Citas:  ['Hora:11:00']\n",
      "-------------\n",
      "Nombre:  FRANCISCO MUÑOZ\n",
      "edad:  74\n",
      "ID:  371017903\n",
      "estrato:  2\n",
      "enfermedades:  ['Lumbalgia']\n",
      "Citas:  ['Hora:13:00', 'Hora:12:00']\n",
      "-------------\n",
      "Nombre:  PABLO LOPEZ\n",
      "edad:  85\n",
      "ID:  193265805\n",
      "estrato:  4\n",
      "enfermedades:  ['Aftas bucales', 'Atrofia vaginal', 'Arteriosclerosis']\n",
      "Citas:  ['Hora:09:00']\n",
      "-------------\n",
      "Nombre:  DAVID MARTINEZ\n",
      "edad:  29\n",
      "ID:  429172438\n",
      "estrato:  5\n",
      "enfermedades:  ['Alcoholismo', 'Leucemia']\n",
      "Citas:  ['Hora:12:00', 'Hora:11:00']\n",
      "-------------\n",
      "EPS: Sanitas \n",
      "Capacidad disponible: 9 \n",
      "Capacidad Total: 22 \n",
      "######################\n"
     ]
    }
   ],
   "source": [
    "nombre=random.sample(lista_nombres, k=1)[0]+\" \"+random.sample(lista_apellidos, k=1)[0]\n",
    "edad=random.randint(18,90)\n",
    "ID=random.randint(99999999,999999999)\n",
    "estrato=random.randint(2,6)\n",
    "enfermedades=random.sample(lista_enfermedades, k=random.randint(1,3))\n",
    "citas=random.sample(lista_citas, k=random.randint(1,2))\n",
    "instituto.crear_paciente(nombre, edad, ID, estrato, enfermedades, citas)\n",
    "\n",
    "print(\"\\n\")\n",
    "validar_eps=random.sample(lista_eps, k=1)[0]\n",
    "instituto.verificarEPS(validar_eps)\n",
    "print(\"\\n\")\n",
    "instituto.imprimirInfo()"
   ]
  },
  {
   "cell_type": "code",
   "execution_count": 19,
   "metadata": {},
   "outputs": [
    {
     "name": "stdout",
     "output_type": "stream",
     "text": [
      "Número de pacientes: \n",
      "\n",
      "Hospital Militar Central 10\n",
      "Sociedad de cirugía 8\n",
      "Hospital Simón Bolívar 10\n",
      "Hospital Universitario San Ignacio 10\n",
      "Hospital Engativá 13\n",
      "Hospital De Fontibón 12\n",
      "Hospital Del Sur I Nivel 10\n",
      "Hospital De Meissen 9\n",
      "Hospital San Blas 9\n"
     ]
    }
   ],
   "source": [
    "print(\"Número de pacientes: \\n\")\n",
    "for i,j in dict_hospital1.items():\n",
    "    print(i,len(j))"
   ]
  },
  {
   "cell_type": "markdown",
   "metadata": {},
   "source": [
    "## Caso 2"
   ]
  },
  {
   "cell_type": "markdown",
   "metadata": {},
   "source": [
    "Para este caso se escogió una capacidad de 30 pacientes en dicho hospital a analizar. Posteriomente se creará un paciente de manera aleatoria. Así mismo, se valida una EPS de forma aleatoria."
   ]
  },
  {
   "cell_type": "code",
   "execution_count": 20,
   "metadata": {},
   "outputs": [],
   "source": [
    "instituto1=Hospital(30,\"Compensar\", \"Hospital De Meissen\", dict_hospital1[\"Hospital De Meissen\"] ,dict_hospital1)"
   ]
  },
  {
   "cell_type": "code",
   "execution_count": 21,
   "metadata": {},
   "outputs": [
    {
     "name": "stdout",
     "output_type": "stream",
     "text": [
      "creacion paciente nuevo\n",
      "\n",
      "\n",
      "EPS a valida\n",
      "Eps a validar: Sanitas\n",
      "La EPS no corresponde a la EPS del hospital\n"
     ]
    }
   ],
   "source": [
    "nombre=random.sample(lista_nombres, k=1)[0]+\" \"+random.sample(lista_apellidos, k=1)[0]\n",
    "edad=random.randint(18,90)\n",
    "ID=random.randint(99999999,999999999)\n",
    "estrato=random.randint(2,6)\n",
    "enfermedades=random.sample(lista_enfermedades, k=random.randint(1,3))\n",
    "citas=random.sample(lista_citas, k=random.randint(1,2))\n",
    "instituto1.crear_paciente(nombre, edad, ID, estrato, enfermedades, citas)\n",
    "\n",
    "print(\"\\n\")\n",
    "validar_eps=random.sample(lista_eps, k=1)[0]\n",
    "print(\"EPS a valida\")\n",
    "instituto1.verificarEPS(validar_eps)"
   ]
  },
  {
   "cell_type": "code",
   "execution_count": 22,
   "metadata": {},
   "outputs": [
    {
     "name": "stdout",
     "output_type": "stream",
     "text": [
      "Número de pacientes: \n",
      "\n",
      "Hospital Militar Central 10\n",
      "Sociedad de cirugía 8\n",
      "Hospital Simón Bolívar 10\n",
      "Hospital Universitario San Ignacio 10\n",
      "Hospital Engativá 13\n",
      "Hospital De Fontibón 12\n",
      "Hospital Del Sur I Nivel 10\n",
      "Hospital De Meissen 10\n",
      "Hospital San Blas 9\n"
     ]
    }
   ],
   "source": [
    "print(\"Número de pacientes: \\n\")\n",
    "for i,j in dict_hospital1.items():\n",
    "    print(i,len(j))"
   ]
  },
  {
   "cell_type": "code",
   "execution_count": null,
   "metadata": {},
   "outputs": [],
   "source": []
  }
 ],
 "metadata": {
  "kernelspec": {
   "display_name": "Python 3",
   "language": "python",
   "name": "python3"
  },
  "language_info": {
   "codemirror_mode": {
    "name": "ipython",
    "version": 3
   },
   "file_extension": ".py",
   "mimetype": "text/x-python",
   "name": "python",
   "nbconvert_exporter": "python",
   "pygments_lexer": "ipython3",
   "version": "3.7.4"
  }
 },
 "nbformat": 4,
 "nbformat_minor": 4
}
